{
 "cells": [
  {
   "attachments": {},
   "cell_type": "markdown",
   "metadata": {},
   "source": [
    "# Tutorial of DiffCo for Trajectory Optimization"
   ]
  },
  {
   "attachments": {},
   "cell_type": "markdown",
   "metadata": {},
   "source": [
    "## 1. Create Environment for Geometrical Collision Checking\n",
    "\n",
    "### Provide a customized class that provides the following functions:\n",
    "* sample random configuration of the robot\n",
    "* check if a configuration is in collision with any obstacles in the environment\n",
    "* (optional) plot the robot and all objects in the environment\n",
    "  \n",
    "The base class CollisionEnv located at `envs/collision_env.py` provides a reference of what functions the class should provide.\n",
    "\n",
    "```\n",
    "class CollisionEnv:\n",
    "    '''\n",
    "    A template class for collision environment.\n",
    "    Use as a reference for implementing your own collision environment.\n",
    "    '''\n",
    "    def __init__(self):\n",
    "        pass\n",
    "\n",
    "    def is_collision(self, qs):\n",
    "        return [self._single_collision(q) for q in qs]\n",
    "    \n",
    "    def _single_collision(self, q):\n",
    "        raise NotImplementedError\n",
    "\n",
    "    def distance(self, qs):\n",
    "        return [self._single_distance(q) for q in qs]\n",
    "    \n",
    "    def _single_distance(self, q):\n",
    "        raise NotImplementedError\n",
    "    \n",
    "    def sample_q(self):\n",
    "        raise NotImplementedError\n",
    "    \n",
    "    def plot(self, qs):\n",
    "        raise NotImplementedError\n",
    "```\n",
    "\n",
    "In this tutorial, we are going to use an environment using roboticstoolbox-python as backend, because it supports collision checking + visualization in notebook. The robot is a Franka Emika Panda robot, and the obstacles are 3 cylinders. \n",
    "\n",
    "*Note: the RTB simulator does not always run correctly in Colab or a notebook on a remote server.*"
   ]
  },
  {
   "cell_type": "code",
   "execution_count": 1,
   "metadata": {},
   "outputs": [
    {
     "data": {
      "text/html": [
       "\n",
       "        <iframe\n",
       "            width=\"600\"\n",
       "            height=\"400\"\n",
       "            src=\"http://localhost:52000/?53000\"\n",
       "            frameborder=\"0\"\n",
       "            allowfullscreen\n",
       "        ></iframe>\n",
       "        "
      ],
      "text/plain": [
       "<IPython.lib.display.IFrame at 0x7f1fd4869730>"
      ]
     },
     "metadata": {},
     "output_type": "display_data"
    }
   ],
   "source": [
    "from envs.rtb import PandaThreeCylinderEnv\n",
    "\n",
    "cenv = PandaThreeCylinderEnv(launch_args={'realtime': True, 'browser': 'notebook'})\n",
    "# you may also use browser='firefox' or 'google-chrome'"
   ]
  },
  {
   "attachments": {},
   "cell_type": "markdown",
   "metadata": {},
   "source": [
    "## 2. Generate Dataset for Training DiffCo"
   ]
  },
  {
   "cell_type": "code",
   "execution_count": 3,
   "metadata": {},
   "outputs": [
    {
     "name": "stdout",
     "output_type": "stream",
     "text": [
      "cfgs.shape = torch.Size([12000, 7])\n",
      "labels.shape = torch.Size([12000])\n",
      "train_cfgs.shape = torch.Size([10000, 7])\n",
      "test_cfgs.shape = torch.Size([2000, 7])\n",
      "train_labels.shape = torch.Size([10000])\n",
      "test_labels.shape = torch.Size([2000])\n"
     ]
    }
   ],
   "source": [
    "import torch\n",
    "import numpy as np\n",
    "from diffco.routines import train_test_split\n",
    "\n",
    "num_samples = 12000\n",
    "num_train = 10000\n",
    "try:\n",
    "    dataset = torch.load('tutorial_dataset.pt')\n",
    "    train_cfgs = dataset['train_cfgs']\n",
    "    test_cfgs = dataset['test_cfgs']\n",
    "    train_labels = dataset['train_labels']\n",
    "    test_labels = dataset['test_labels']\n",
    "    cfgs = torch.cat([train_cfgs, test_cfgs])\n",
    "    labels = torch.cat([train_labels, test_labels])\n",
    "except FileNotFoundError:\n",
    "    cfgs = torch.tensor(np.stack([cenv.sample_q() for _ in range(num_samples)]), dtype=torch.float32)\n",
    "    labels = torch.tensor(cenv.is_collision(cfgs.numpy()), dtype=torch.float32)\n",
    "    labels = 2 * labels - 1\n",
    "\n",
    "    train_indices, test_indices = train_test_split(num_samples, num_train)\n",
    "    train_cfgs, test_cfgs = cfgs[train_indices], cfgs[test_indices]\n",
    "    train_labels, test_labels = labels[train_indices], labels[test_indices]\n",
    "\n",
    "    torch.save({\n",
    "        'train_cfgs': train_cfgs,\n",
    "        'test_cfgs': test_cfgs,\n",
    "        'train_labels': train_labels,\n",
    "        'test_labels': test_labels,\n",
    "    }, 'tutorial_dataset.pt')\n",
    "\n",
    "print(f'cfgs.shape = {cfgs.shape}')\n",
    "print(f'labels.shape = {labels.shape}')\n",
    "print(f'train_cfgs.shape = {train_cfgs.shape}')\n",
    "print(f'test_cfgs.shape = {test_cfgs.shape}')\n",
    "print(f'train_labels.shape = {train_labels.shape}')\n",
    "print(f'test_labels.shape = {test_labels.shape}')"
   ]
  },
  {
   "attachments": {},
   "cell_type": "markdown",
   "metadata": {},
   "source": [
    "## 3. Train DiffCo\n",
    "\n",
    "### Provide a PyTorch FK function\n",
    "that calculates a set of predefined points on your robot given a configuration. The points can be any unique points on the robot that covers all links nicely. A common choice is the origins of link frames. The function `fkine(q) -> tensor(m, d)` maps a configuration to a set of points in the d-dimensional workspace (usually, d=2 or 3)\n",
    "* This is optional, but it allows us to use the FK function in the kernel, which results in much better accuracy\n",
    "* This may be automatically generated in the future with a URDF file of the robot using, e.g., [differentiable-robot-model](https://github.com/facebookresearch/differentiable-robot-model) from facebookresearch "
   ]
  },
  {
   "cell_type": "markdown",
   "metadata": {},
   "source": [
    "### 3.1 Method I: Step by step"
   ]
  },
  {
   "cell_type": "code",
   "execution_count": 4,
   "metadata": {},
   "outputs": [
    {
     "name": "stderr",
     "output_type": "stream",
     "text": [
      "  0%|          | 17/10000 [00:00<01:01, 163.24it/s]"
     ]
    },
    {
     "name": "stdout",
     "output_type": "stream",
     "text": [
      "DiffCo training...\n"
     ]
    },
    {
     "name": "stderr",
     "output_type": "stream",
     "text": [
      " 20%|█▉        | 1959/10000 [00:06<00:26, 305.66it/s]\n"
     ]
    },
    {
     "name": "stdout",
     "output_type": "stream",
     "text": [
      "Ended at iteration 1959\n",
      "ACC: 1.0\n",
      "original training done. 6.4852 secs cost\n"
     ]
    }
   ],
   "source": [
    "# define the pytorch FK function. \n",
    "from diffco import model\n",
    "drobot = model.PandaFK()\n",
    "fkine = drobot.fkine # Could be None if you don't need it\n",
    "\n",
    "# specify kernel function for training\n",
    "from diffco import kernel\n",
    "train_kernel_func = kernel.FKKernel(fkine, kernel.RQKernel(gamma=10.))\n",
    "\n",
    "# define the kernel perceptron\n",
    "from diffco import DiffCo\n",
    "checker = DiffCo(None, train_kernel_func, beta=1.0)\n",
    "\n",
    "# train the kernel perceptron\n",
    "checker.train(train_cfgs, train_labels, max_iteration=num_train)\n",
    "\n",
    "# fit the support configurations and labels with polyharmonic kernel\n",
    "inference_kernel_func = kernel.Polyharmonic(k=1, epsilon=1)\n",
    "checker.fit_poly(kernel_func=inference_kernel_func, target='label', fkine=fkine)\n",
    "col_func = checker.poly_score"
   ]
  },
  {
   "cell_type": "code",
   "execution_count": 5,
   "metadata": {},
   "outputs": [
    {
     "data": {
      "text/plain": [
       "tensor([[-5.4086]])"
      ]
     },
     "execution_count": 5,
     "metadata": {},
     "output_type": "execute_result"
    }
   ],
   "source": [
    "# Test a random configuration\n",
    "col_func(torch.tensor(cenv.sample_q(), dtype=torch.float32))"
   ]
  },
  {
   "cell_type": "code",
   "execution_count": 6,
   "metadata": {},
   "outputs": [
    {
     "name": "stdout",
     "output_type": "stream",
     "text": [
      "safety_margin = -0.6154\n",
      "test_acc = 0.8980\n",
      "test_tpr = 0.9693\n",
      "test_tnr = 0.8858\n",
      "num of support points = 1114\n"
     ]
    }
   ],
   "source": [
    "# Choose a safety margin. \n",
    "# A good choice is to set it to be proportional to the minimum score.\n",
    "min_score = torch.min(col_func(train_cfgs)).item()\n",
    "safety_margin = min_score / 10\n",
    "print(f'safety_margin = {safety_margin:.4f}')\n",
    "\n",
    "# test the correctness of the kernel perceptron\n",
    "# Ideally, TPR should be > 0.9 and ACC should be > 0.9\n",
    "num_test = num_samples - num_train\n",
    "test_preds = (col_func(test_cfgs)-safety_margin > 0) * 2 - 1\n",
    "test_labels = test_labels.reshape(test_preds.shape)\n",
    "test_acc = torch.sum(test_preds == test_labels).item() / num_test\n",
    "test_tpr = torch.sum(test_preds[test_labels == 1] == 1).item() / torch.sum(test_labels == 1).item()\n",
    "test_tnr = torch.sum(test_preds[test_labels == -1] == -1).item() / torch.sum(test_labels == -1).item()\n",
    "print(f'test_acc = {test_acc:.4f}')\n",
    "print(f'test_tpr = {test_tpr:.4f}')\n",
    "print(f'test_tnr = {test_tnr:.4f}')\n",
    "print(f'num of support points = {len(checker.gains)}')"
   ]
  },
  {
   "cell_type": "markdown",
   "metadata": {},
   "source": [
    "### 3.2 Method II: Using Predefined routines"
   ]
  },
  {
   "cell_type": "code",
   "execution_count": 7,
   "metadata": {},
   "outputs": [
    {
     "name": "stderr",
     "output_type": "stream",
     "text": [
      "  0%|          | 21/10000 [00:00<00:48, 205.51it/s]"
     ]
    },
    {
     "name": "stdout",
     "output_type": "stream",
     "text": [
      "DiffCo training...\n"
     ]
    },
    {
     "name": "stderr",
     "output_type": "stream",
     "text": [
      " 20%|█▉        | 1959/10000 [00:05<00:24, 332.76it/s]\n"
     ]
    },
    {
     "name": "stdout",
     "output_type": "stream",
     "text": [
      "Ended at iteration 1959\n",
      "ACC: 1.0\n",
      "original training done. 5.9582 secs cost\n",
      "checker saved: results/tutorial_checker.pt.p\n",
      "safety_margin = -0.6154\n",
      "Test acc: 0.8980, TPR 0.9693, TNR 0.8858\n",
      "1114 Support Points\n"
     ]
    }
   ],
   "source": [
    "from diffco import DiffCo\n",
    "from diffco.routines import train_checker, test_checker, fit_checker, get_estimator\n",
    "\n",
    "# define the pytorch FK function. \n",
    "from diffco import model\n",
    "drobot = model.PandaFK()\n",
    "fkine = drobot.fkine # Could be None if you don't need it\n",
    "\n",
    "checker = train_checker(\n",
    "    checker_type=DiffCo, \n",
    "    train_data=train_cfgs, \n",
    "    train_labels=train_labels, train_dists=None, \n",
    "    fkine=fkine, obstacles=None, \n",
    "    trained_checker_dump='tutorial_checker.pt',\n",
    "    lmbda=10.)\n",
    "\n",
    "from diffco import kernel\n",
    "fit_checker(checker, kernel.Polyharmonic, False, \n",
    "    fitting_target='label',\n",
    "    fitting_epsilon=1.0, \n",
    "    fkine=fkine,)\n",
    "col_func = get_estimator(checker, 'poly_score')\n",
    "\n",
    "# Choose a safety margin. \n",
    "# A good choice is to set it to be proportional to the minimum score.\n",
    "# Ideally, TPR should be > 0.9 and ACC should be > 0.9\n",
    "min_score = torch.min(col_func(train_cfgs)).item()\n",
    "safety_margin = min_score / 10\n",
    "print(f'safety_margin = {safety_margin:.4f}')\n",
    "\n",
    "test_checker(checker, col_func, test_cfgs, test_labels, safety_margin=safety_margin)"
   ]
  },
  {
   "attachments": {},
   "cell_type": "markdown",
   "metadata": {},
   "source": [
    "## 4. Define Trajectory Optimization Problem"
   ]
  },
  {
   "cell_type": "markdown",
   "metadata": {},
   "source": [
    "Now we choose two free configurations from our dataset and attempt to find a path between them with trajectory optimization. It is possible optimization does not yield a successful result because it may get stuck at a local minimum. So we recommend obtaining a valid path with a motion planning algorithm as the initial solution for optimization."
   ]
  },
  {
   "cell_type": "markdown",
   "metadata": {},
   "source": [
    "The following block gets a pair of (collision-free) start and end configuration"
   ]
  },
  {
   "cell_type": "code",
   "execution_count": 8,
   "metadata": {},
   "outputs": [
    {
     "name": "stdout",
     "output_type": "stream",
     "text": [
      "start_cfg = tensor([-0.1864,  0.0947, -0.3750, -2.0538,  0.1104,  2.2240,  0.1634]), fk_t = [ 0.49999999 -0.3         0.29999999]\n",
      "target_cfg = tensor([ 0.1778,  0.0207,  0.3855, -1.6237, -0.0618,  1.7273,  1.3554]), fk_t = [0.5        0.29999999 0.5       ]\n",
      "collision = [False, False]\n"
     ]
    }
   ],
   "source": [
    "free_cfgs = cfgs[labels == -1]\n",
    "two_idx = np.random.choice(len(free_cfgs), 2, replace=False)\n",
    "start_cfg, target_cfg = free_cfgs[two_idx]\n",
    "\n",
    "from spatialmath import SE3\n",
    "Tr = cenv.robot.fkine(cenv.robot.qr)\n",
    "start_point = np.array([0.5, -0.3, 0.3])\n",
    "target_point = np.array([0.5, 0.3, 0.5])\n",
    "Tstart = SE3.Rt(R=Tr.R, t=start_point)\n",
    "Ttarget = SE3.Rt(R=Tr.R, t=target_point)\n",
    "\n",
    "while True:\n",
    "    start_cfg = cenv.robot.ikine_LM(Tstart, mask=np.array([1., 1., 1., 1, 1, 1]), q0=cenv.robot.qr).q\n",
    "    start_cfg = torch.tensor(start_cfg, dtype=torch.float32)\n",
    "    target_cfg = cenv.robot.ikine_LM(Ttarget, mask=np.array([1., 1., 1., 1, 1, 1]), q0=cenv.robot.qr).q\n",
    "    target_cfg = torch.tensor(target_cfg, dtype=torch.float32)\n",
    "    if not any(cenv.is_collision([start_cfg, target_cfg])):\n",
    "        break\n",
    "print(f'start_cfg = {start_cfg}, fk_t = {cenv.robot.fkine(start_cfg).t}')\n",
    "print(f'target_cfg = {target_cfg}, fk_t = {cenv.robot.fkine(target_cfg).t}')\n",
    "print(f'collision = {cenv.is_collision([start_cfg, target_cfg])}')\n"
   ]
  },
  {
   "cell_type": "code",
   "execution_count": 9,
   "metadata": {},
   "outputs": [],
   "source": [
    "# set up an environmet in your browser for easier visualization\n",
    "# (otherwise, you will need to scroll up a lot to see the environment)\n",
    "tmp_cenv = PandaThreeCylinderEnv(launch_args={'realtime': False, 'browser': 'google-chrome'})\n",
    "tmp_cenv.robot.q = start_cfg.numpy()\n",
    "tmp_cenv.env.step(0.01)"
   ]
  },
  {
   "cell_type": "markdown",
   "metadata": {},
   "source": [
    "### 4.1 (Recommended) Obtain a valid path with OMPL"
   ]
  },
  {
   "cell_type": "code",
   "execution_count": 10,
   "metadata": {},
   "outputs": [
    {
     "name": "stdout",
     "output_type": "stream",
     "text": [
      "planner: RRTConnect\n",
      "OMPL success?: True\n"
     ]
    }
   ],
   "source": [
    "from scripts.motion_planner import MotionPlanner\n",
    "\n",
    "def my_motion_cost(s1, s2):\n",
    "    # print(f'motion cost: {s1}, {s2}')\n",
    "    p_tensor = torch.stack([s1, s2])\n",
    "    control_points = drobot.fkine(p_tensor)\n",
    "    diff = (control_points[1:]-control_points[:-1]).pow(2).sum()\n",
    "    return diff.item()\n",
    "def valid_check_func(x):\n",
    "    # print(f'valid check: {x}')\n",
    "    if not isinstance(x, np.ndarray):\n",
    "        x = np.array(x)\n",
    "    return not cenv._single_collision(x)\n",
    "# valid_check_func = lambda x: not cenv.is_collision(x)\n",
    "mp = MotionPlanner(drobot, valid_check_func, my_motion_cost)\n",
    "ompl_rec = mp.plan(start_cfg, target_cfg, {'maxtime': 10.0})\n",
    "print(f'OMPL success?: {ompl_rec[\"success\"]}')\n",
    "ompl_path = torch.tensor(ompl_rec['solution'], dtype=torch.double)"
   ]
  },
  {
   "cell_type": "code",
   "execution_count": 12,
   "metadata": {},
   "outputs": [
    {
     "name": "stdout",
     "output_type": "stream",
     "text": [
      "OMPL path length 43\n"
     ]
    }
   ],
   "source": [
    "import time\n",
    "print(f'OMPL path length {len(ompl_path)}')\n",
    "for cfg in ompl_path:\n",
    "    tmp_cenv.robot.q = cfg.numpy()\n",
    "    tmp_cenv.env.step(0.05)\n",
    "    time.sleep(0.05)"
   ]
  },
  {
   "attachments": {},
   "cell_type": "markdown",
   "metadata": {},
   "source": [
    "### 4.2 Trajectory Optimization with DiffCo"
   ]
  },
  {
   "cell_type": "code",
   "execution_count": 13,
   "metadata": {},
   "outputs": [
    {
     "name": "stdout",
     "output_type": "stream",
     "text": [
      "diffco robot model joint limits: tensor([[-2.8973,  2.8973],\n",
      "        [-1.7628,  1.7628],\n",
      "        [-2.8973,  2.8973],\n",
      "        [-3.0718, -0.0698],\n",
      "        [-2.8973,  2.8973],\n",
      "        [-0.0175,  3.7525],\n",
      "        [-2.8973,  2.8973]])\n",
      "RTB robot joint limits: [[-2.8973 -1.7628 -2.8973 -3.0718 -2.8973 -0.0175 -2.8973]\n",
      " [ 2.8973  1.7628  2.8973 -0.0698  2.8973  3.7525  2.8973]]\n"
     ]
    }
   ],
   "source": [
    "# Make sure joint limits align in the diffco robot model and the RTB robot model\n",
    "print(f'diffco robot model joint limits: {drobot.limits}')\n",
    "print(f'RTB robot joint limits: {cenv.robot.qlim}')"
   ]
  },
  {
   "cell_type": "code",
   "execution_count": 25,
   "metadata": {},
   "outputs": [],
   "source": [
    "# Set up some optimization options\n",
    "from diffco import optim\n",
    "import importlib\n",
    "importlib.reload(optim)\n",
    "from diffco.optim import givengrad_traj_optimize, adam_traj_optimize, trustconstr_traj_optimize\n",
    "\n",
    "optim_options = {\n",
    "    'N_WAYPOINTS': 20,\n",
    "    'NUM_RE_TRIALS': 1,\n",
    "    'MAXITER': 200, # 200 for adam, 50 for slsqp(givengrad), 30 for trust_constr\n",
    "    'safety_margin': safety_margin,\n",
    "    'max_speed': 0.1, # max interval between adjacent configs for collision checks\n",
    "    'seed': 1234,\n",
    "    'history': False,\n",
    "    'extra_optimizer_options': {\n",
    "        'disp': True, # False to suppress output\n",
    "        # 'iprint': 10, # make slsqp verbose\n",
    "        'verbose': 3, # make trust_constr verbose\n",
    "        'lr': 0.1, # learning rate for adam\n",
    "    },\n",
    "}\n",
    "robot = model.PandaFK()\n",
    "try:\n",
    "    if ompl_path is not None:\n",
    "        init_path = ompl_path.clone()\n",
    "        def sparsify_path(path, n):\n",
    "            assert n >= 2\n",
    "            if len(path) <= n:\n",
    "                return path\n",
    "            indices = np.linspace(0, len(path)-1, n, dtype=int)\n",
    "            return path[indices]\n",
    "        init_path = sparsify_path(init_path, optim_options['N_WAYPOINTS'])\n",
    "\n",
    "        optim_options['init_solution'] = init_path\n",
    "except NameError:\n",
    "    pass"
   ]
  },
  {
   "cell_type": "markdown",
   "metadata": {},
   "source": [
    "#### Choose one optimizer from below \n",
    "(and maybe adjust options above accordingly)"
   ]
  },
  {
   "cell_type": "code",
   "execution_count": 26,
   "metadata": {},
   "outputs": [
    {
     "name": "stdout",
     "output_type": "stream",
     "text": [
      "Adam lr = 0.1\n"
     ]
    }
   ],
   "source": [
    "# Fastest, lower success rate and path quality\n",
    "optim_rec = adam_traj_optimize(\n",
    "    robot, col_func, start_cfg, target_cfg, optim_options)\n",
    "\n",
    "# Medium success rate, better convergence than Adam\n",
    "# optim_rec = givengrad_traj_optimize(\n",
    "#     robot, col_func, start_cfg, target_cfg, optim_options)\n",
    "\n",
    "# Slowest, highest success rate and path quality\n",
    "# optim_rec = trustconstr_traj_optimize(\n",
    "#     robot, col_func, start_cfg, target_cfg, optim_options)\n",
    "\n",
    "# print(f'optim_rec = {optim_rec}')"
   ]
  },
  {
   "cell_type": "code",
   "execution_count": 27,
   "metadata": {},
   "outputs": [
    {
     "name": "stdout",
     "output_type": "stream",
     "text": [
      "init cost = 0.19630893275691091\n",
      "cost = 0.18197554349899292\n"
     ]
    }
   ],
   "source": [
    "# Compare path cost before and after optimization\n",
    "qs = optim_options['init_solution']\n",
    "fk_points = robot.fkine(qs)\n",
    "init_cost = (fk_points[1:] - fk_points[:-1]).pow(2).sum()\n",
    "print(f'init cost = {init_cost}')\n",
    "qs = optim_rec['solution']\n",
    "qs = torch.tensor(qs)\n",
    "fk_points = robot.fkine(qs)\n",
    "cost = (fk_points[1:] - fk_points[:-1]).pow(2).sum()\n",
    "print(f'cost = {cost}')\n",
    "assert not torch.allclose(qs, optim_options['init_solution'].to(qs.dtype))"
   ]
  },
  {
   "cell_type": "code",
   "execution_count": 28,
   "metadata": {},
   "outputs": [
    {
     "name": "stdout",
     "output_type": "stream",
     "text": [
      "Any in_collision ?: False\n",
      "Any proxy collision ?: False\n",
      "qs.shape = torch.Size([47, 7])\n"
     ]
    }
   ],
   "source": [
    "# Verify and visualize the optimized path.\n",
    "# You may also modify the code to visualize the initial path before optimization.\n",
    "\n",
    "from diffco.utils import dense_path\n",
    "qs = dense_path(qs, 0.2)\n",
    "\n",
    "in_collision = cenv.is_collision(qs)\n",
    "proxy_in_collision = (col_func(qs) - safety_margin > 0).reshape(-1)\n",
    "print(f'Any in_collision ?: {any(in_collision)}')\n",
    "print(f'Any proxy collision ?: {any(proxy_in_collision)}')\n",
    "\n",
    "print(f'qs.shape = {qs.shape}')\n",
    "import time\n",
    "for q in qs:\n",
    "    tmp_cenv.robot.q = q.numpy()\n",
    "    tmp_cenv.env.step(0.05)\n",
    "    time.sleep(0.05)"
   ]
  },
  {
   "attachments": {},
   "cell_type": "markdown",
   "metadata": {},
   "source": [
    "### 4.3 Trajectory Optimization with Geometrical Collision Checking\n",
    "We then also try optimization with the geometrical collison checker that comes with the environment."
   ]
  },
  {
   "cell_type": "code",
   "execution_count": 198,
   "metadata": {},
   "outputs": [
    {
     "name": "stdout",
     "output_type": "stream",
     "text": [
      "  NIT    FC           OBJFUN            GNORM\n",
      "    1   128     3.126395E-01     4.834584E-01\n",
      "    2   261     3.096849E+01     4.834574E-01\n",
      "    3   391     5.999839E-01     3.433784E+00\n",
      "    4   518     4.523255E+00     2.288069E+00\n",
      "    5   655     3.025401E+01     2.286993E+00\n",
      "    6   792     1.751171E+00     2.279933E+00\n",
      "    7   927     4.044384E+01     2.279933E+00\n",
      "    8  1064     3.719636E+01     2.279933E+00\n",
      "    9  1199     3.847449E+00     2.279930E+00\n",
      "   10  1336     3.226599E+01     2.279843E+00\n",
      "   11  1473     2.318569E+00     2.279706E+00\n",
      "   12  1610     3.203977E+01     2.279706E+00\n",
      "   13  1747     2.607822E+01     2.279706E+00\n",
      "   14  1878     3.431159E+01     2.283759E+00\n",
      "   15  2013     2.501381E+01     2.283747E+00\n",
      "   16  2150     4.910220E+00     2.176751E+00\n",
      "   17  2280     1.035906E+01     1.784468E+00\n",
      "   18  2417     1.066398E+00     1.784450E+00\n",
      "   19  2554     2.826861E+01     1.784254E+00\n",
      "   20  2683     3.177908E+01     5.858423E+00\n",
      "   21  2813     2.997067E+01     5.356117E+00\n",
      "   22  2949     5.124364E+00     5.356092E+00\n",
      "   23  3086     1.154290E+01     5.355690E+00\n",
      "   24  3215     8.626467E+00     4.712263E+00\n",
      "   25  3352     2.912437E+01     4.711087E+00\n",
      "   26  3489     7.928735E+00     4.711083E+00\n",
      "   27  3626     5.213164E+00     4.709963E+00\n",
      "   28  3763     2.272464E+01     4.709905E+00\n",
      "   29  3900     1.138009E+01     4.346316E+00\n",
      "   30  4036     1.688124E+00     4.345312E+00\n",
      "Iteration limit reached    (Exit mode 9)\n",
      "            Current function value: 1.6881242853089147\n",
      "            Iterations: 30\n",
      "            Function evaluations: 4036\n",
      "            Gradient evaluations: 30\n"
     ]
    }
   ],
   "source": [
    "from diffco.optim import gradient_free_traj_optimize\n",
    "optim_options = {\n",
    "    'N_WAYPOINTS': 20,\n",
    "    'NUM_RE_TRIALS': 1,\n",
    "    'MAXITER': 30,\n",
    "    'max_speed': 0.1,\n",
    "    'seed': 1234,\n",
    "    'history': False\n",
    "}\n",
    "try:\n",
    "    optim_options['init_solution'] = init_path\n",
    "except NameError:\n",
    "    print('No init path, starting with straight line')\n",
    "robot = model.PandaFK()\n",
    "dist_func = lambda qs: torch.tensor(cenv.distance(qs.numpy()), dtype=torch.float32)\n",
    "optim_rec = gradient_free_traj_optimize(\n",
    "    robot, dist_func, start_cfg, target_cfg, optim_options)"
   ]
  },
  {
   "cell_type": "code",
   "execution_count": 208,
   "metadata": {},
   "outputs": [
    {
     "name": "stdout",
     "output_type": "stream",
     "text": [
      "init cost = 0.3183942385406464\n",
      "cost = 1.688124179840088\n",
      "Any in_collision = True\n",
      "Any proxy collision = True\n",
      "qs.shape = torch.Size([48, 7])\n"
     ]
    }
   ],
   "source": [
    "qs = optim_options['init_solution']\n",
    "fk_points = robot.fkine(qs)\n",
    "init_cost = (fk_points[1:] - fk_points[:-1]).pow(2).sum()\n",
    "print(f'init cost = {init_cost}')\n",
    "qs = optim_rec['solution']\n",
    "qs = torch.tensor(qs)\n",
    "fk_points = robot.fkine(qs)\n",
    "cost = (fk_points[1:] - fk_points[:-1]).pow(2).sum()\n",
    "print(f'cost = {cost}')\n",
    "assert not torch.allclose(qs, optim_options['init_solution'].to(qs.dtype))\n",
    "from diffco.utils import dense_path\n",
    "qs = dense_path(qs, 0.2)\n",
    "\n",
    "in_collision = cenv.is_collision(qs)\n",
    "proxy_in_collision = (col_func(qs) - safety_margin > 0).reshape(-1)\n",
    "print(f'Any in_collision = {any(in_collision)}')\n",
    "print(f'Any proxy collision = {any(proxy_in_collision)}')\n",
    "\n",
    "print(f'qs.shape = {qs.shape}')\n",
    "import time\n",
    "for q in qs:\n",
    "    tmp_cenv.robot.q = q.numpy()\n",
    "    tmp_cenv.env.step(0.05)\n",
    "    time.sleep(0.05)"
   ]
  }
 ],
 "metadata": {
  "kernelspec": {
   "display_name": "Python 3.8.5 ('diffco')",
   "language": "python",
   "name": "python3"
  },
  "language_info": {
   "codemirror_mode": {
    "name": "ipython",
    "version": 3
   },
   "file_extension": ".py",
   "mimetype": "text/x-python",
   "name": "python",
   "nbconvert_exporter": "python",
   "pygments_lexer": "ipython3",
   "version": "3.8.5"
  },
  "orig_nbformat": 4,
  "vscode": {
   "interpreter": {
    "hash": "ca277e60235055ece99f6d3c5b7751f9a4f24693cc8c9564a8efa7dc1f203cbb"
   }
  }
 },
 "nbformat": 4,
 "nbformat_minor": 2
}
