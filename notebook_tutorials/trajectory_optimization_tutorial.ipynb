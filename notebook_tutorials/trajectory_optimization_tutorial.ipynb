{
 "cells": [
  {
   "cell_type": "markdown",
   "metadata": {},
   "source": [
    "# Tutorial of DiffCo for Trajectory Optimization"
   ]
  },
  {
   "cell_type": "markdown",
   "metadata": {},
   "source": [
    "## 1. Create Environment for Geometrical Collision Checking\n",
    "\n",
    "### Provide a customized class that provides the following functions:\n",
    "* sample random configuration of the robot\n",
    "* check if a configuration is in collision with any obstacles in the environment\n",
    "* (optional) plot the robot and all objects in the environment\n",
    "  \n",
    "The base class CollisionEnv located at `envs/collision_env.py` provides a reference of what functions the class should provide.\n",
    "```python\n",
    "class CollisionEnv:\n",
    "    '''\n",
    "    A template class for collision environment.\n",
    "    Use as a reference for implementing your own collision environment.\n",
    "    '''\n",
    "    def __init__(self):\n",
    "        pass\n",
    "    def is_collision(self, qs):\n",
    "        return [self._single_collision(q) for q in qs]\n",
    "    def _single_collision(self, q):\n",
    "        raise NotImplementedError\n",
    "    def distance(self, qs):\n",
    "        return [self._single_distance(q) for q in qs]\n",
    "    def _single_distance(self, q):\n",
    "        raise NotImplementedError\n",
    "    def sample_q(self):\n",
    "        raise NotImplementedError\n",
    "    def plot(self, qs):\n",
    "        raise NotImplementedError\n",
    "```\n",
    "\n",
    "In this tutorial, we are going to use an environment using roboticstoolbox-python as backend, because it supports collision checking + visualization in notebook. The robot is a Franka Emika Panda robot, and the obstacles are 3 cylinders. \n",
    "\n",
    "*Note: the RTB simulator does not always run correctly in Colab or a notebook on a remote server.*"
   ]
  },
  {
   "cell_type": "code",
   "execution_count": 1,
   "metadata": {},
   "outputs": [
    {
     "name": "stdout",
     "output_type": "stream",
     "text": [
      "\n",
      "Could not open specified browser, using default instead\n",
      "\n"
     ]
    }
   ],
   "source": [
    "from envs.rtb import PandaThreeCylinderEnv, PandaSingleCylinderEnv\n",
    "\n",
    "cenv = PandaThreeCylinderEnv(launch_args={'realtime': True, 'browser': 'colab'})\n",
    "# cenv = PandaSingleCylinderEnv(launch_args={'realtime': True, 'browser': 'colab'})\n",
    "\n",
    "# you may also use browser='firefox' or 'google-chrome'"
   ]
  },
  {
   "cell_type": "code",
   "execution_count": 2,
   "metadata": {},
   "outputs": [
    {
     "name": "stdout",
     "output_type": "stream",
     "text": [
      "[[-2.8973 -1.7628 -2.8973 -3.0718 -2.8973 -0.0175 -2.8973]\n",
      " [ 2.8973  1.7628  2.8973 -0.0698  2.8973  3.7525  2.8973]]\n"
     ]
    }
   ],
   "source": [
    "print(cenv.robot.qlim)"
   ]
  },
  {
   "cell_type": "markdown",
   "metadata": {},
   "source": [
    "## 2. Generate Dataset for Training DiffCo"
   ]
  },
  {
   "cell_type": "code",
   "execution_count": 3,
   "metadata": {},
   "outputs": [
    {
     "name": "stdout",
     "output_type": "stream",
     "text": [
      "ROS-related imports failed. This is expected if not running in a ROS environment. Otherwise, try source your ROS setup.bash file or check your ROS installation.\n",
      "cfgs.shape = torch.Size([12000, 7])\n",
      "labels.shape = torch.Size([12000])\n",
      "train_cfgs.shape = torch.Size([10000, 7])\n",
      "test_cfgs.shape = torch.Size([2000, 7])\n",
      "train_labels.shape = torch.Size([10000])\n",
      "test_labels.shape = torch.Size([2000])\n"
     ]
    }
   ],
   "source": [
    "import torch\n",
    "import numpy as np\n",
    "from diffco.routines import train_test_split\n",
    "\n",
    "num_samples = 12000\n",
    "num_train = 10000\n",
    "try:\n",
    "    dataset = torch.load('tutorial_dataset.pt')\n",
    "    train_cfgs = dataset['train_cfgs']\n",
    "    test_cfgs = dataset['test_cfgs']\n",
    "    train_labels = dataset['train_labels']\n",
    "    test_labels = dataset['test_labels']\n",
    "    cfgs = torch.cat([train_cfgs, test_cfgs])\n",
    "    labels = torch.cat([train_labels, test_labels])\n",
    "except FileNotFoundError:\n",
    "    cfgs = torch.tensor(np.stack([cenv.sample_q() for _ in range(num_samples)]), dtype=torch.float32)\n",
    "    labels = torch.tensor(cenv.is_collision(cfgs.numpy()), dtype=torch.float32)\n",
    "    labels = 2 * labels - 1\n",
    "\n",
    "    train_indices, test_indices = train_test_split(num_samples, num_train)\n",
    "    train_cfgs, test_cfgs = cfgs[train_indices], cfgs[test_indices]\n",
    "    train_labels, test_labels = labels[train_indices], labels[test_indices]\n",
    "\n",
    "    torch.save({\n",
    "        'train_cfgs': train_cfgs,\n",
    "        'test_cfgs': test_cfgs,\n",
    "        'train_labels': train_labels,\n",
    "        'test_labels': test_labels,\n",
    "    }, 'tutorial_dataset.pt')\n",
    "\n",
    "print(f'cfgs.shape = {cfgs.shape}')\n",
    "print(f'labels.shape = {labels.shape}')\n",
    "print(f'train_cfgs.shape = {train_cfgs.shape}')\n",
    "print(f'test_cfgs.shape = {test_cfgs.shape}')\n",
    "print(f'train_labels.shape = {train_labels.shape}')\n",
    "print(f'test_labels.shape = {test_labels.shape}')"
   ]
  },
  {
   "cell_type": "markdown",
   "metadata": {},
   "source": [
    "## 3. Train DiffCo\n",
    "\n",
    "### Provide a PyTorch FK function\n",
    "that calculates a set of predefined points on your robot given a configuration. The points can be any unique points on the robot that covers all links nicely. A common choice is the origins of link frames. The function `fkine(q) -> tensor(m, d)` maps a configuration to a set of points in the d-dimensional workspace (usually, d=2 or 3)\n",
    "* This is optional, but it allows us to use the FK function in the kernel, which results in much better accuracy\n",
    "* This may be automatically generated in the future with a URDF file of the robot using, e.g., [differentiable-robot-model](https://github.com/facebookresearch/differentiable-robot-model) from facebookresearch "
   ]
  },
  {
   "cell_type": "markdown",
   "metadata": {},
   "source": [
    "### 3.1 Method I: using the lower-level kernel perceptron API"
   ]
  },
  {
   "cell_type": "code",
   "execution_count": 4,
   "metadata": {},
   "outputs": [
    {
     "name": "stdout",
     "output_type": "stream",
     "text": [
      "DiffCo training...\n"
     ]
    },
    {
     "name": "stderr",
     "output_type": "stream",
     "text": [
      "  8% 848/10000 [00:00<00:04, 2256.08it/s]\n"
     ]
    },
    {
     "name": "stdout",
     "output_type": "stream",
     "text": [
      "Ended at iteration 848, cost 0.3810 secs\n",
      "ACC: 1.0\n",
      "DiffCo training done. 0.5140 secs cost\n"
     ]
    }
   ],
   "source": [
    "# define the pytorch FK function. \n",
    "from diffco import model, kernel\n",
    "drobot = model.PandaFK()\n",
    "fkine = drobot.fkine # Could be None if you don't need it\n",
    "\n",
    "# specify kernel function for training\n",
    "from diffco.kernel_perceptrons import DiffCo\n",
    "fkdc = DiffCo(kernel_func='rq', transform=fkine, gamma=10)\n",
    "\n",
    "# train the kernel perceptron\n",
    "fkdc.train(train_cfgs, train_labels, max_iteration=num_train, verbose=True)\n",
    "\n",
    "# fit the support configurations and labels with polyharmonic kernel\n",
    "inference_kernel_func = kernel.Polyharmonic(k=1, epsilon=1)\n",
    "fkdc.fit_poly(kernel_func=inference_kernel_func, target='label')\n",
    "col_func = fkdc.poly_score"
   ]
  },
  {
   "cell_type": "code",
   "execution_count": 5,
   "metadata": {},
   "outputs": [
    {
     "data": {
      "text/plain": [
       "tensor([[-1.3714]])"
      ]
     },
     "execution_count": 5,
     "metadata": {},
     "output_type": "execute_result"
    }
   ],
   "source": [
    "# Test a random configuration\n",
    "col_func(torch.tensor(cenv.sample_q(), dtype=torch.float32))"
   ]
  },
  {
   "cell_type": "code",
   "execution_count": 6,
   "metadata": {},
   "outputs": [
    {
     "name": "stdout",
     "output_type": "stream",
     "text": [
      "safety_margin = -0.7984\n",
      "test_acc = 0.9625\n",
      "test_tpr = 1.0000\n",
      "test_tnr = 0.9604\n",
      "num of support points = 467\n"
     ]
    }
   ],
   "source": [
    "# Choose a safety margin. \n",
    "# A good choice is to set it to be proportional to the minimum score.\n",
    "min_score = torch.min(col_func(train_cfgs)).item()\n",
    "safety_margin = min_score / 10\n",
    "print(f'safety_margin = {safety_margin:.4f}')\n",
    "\n",
    "# test the correctness of the kernel perceptron\n",
    "# Ideally, TPR should be > 0.9 and ACC should be > 0.9\n",
    "num_test = num_samples - num_train\n",
    "test_preds = (col_func(test_cfgs)-safety_margin > 0) * 2 - 1\n",
    "test_labels = test_labels.reshape(test_preds.shape)\n",
    "test_acc = torch.sum(test_preds == test_labels).item() / num_test\n",
    "test_tpr = torch.sum(test_preds[test_labels == 1] == 1).item() / torch.sum(test_labels == 1).item()\n",
    "test_tnr = torch.sum(test_preds[test_labels == -1] == -1).item() / torch.sum(test_labels == -1).item()\n",
    "print(f'test_acc = {test_acc:.4f}')\n",
    "print(f'test_tpr = {test_tpr:.4f}')\n",
    "print(f'test_tnr = {test_tnr:.4f}')\n",
    "print(f'num of support points = {len(fkdc.gains)}')"
   ]
  },
  {
   "cell_type": "markdown",
   "metadata": {},
   "source": [
    "### 3.2 Method II: Using higher-level collision_checker API\n",
    "#### but still with the **given dataset**"
   ]
  },
  {
   "cell_type": "code",
   "execution_count": 7,
   "metadata": {},
   "outputs": [
    {
     "name": "stdout",
     "output_type": "stream",
     "text": [
      "tensor([-1., -1., -1.,  ..., -1., -1., -1.])\n",
      "570\n",
      "9430\n"
     ]
    }
   ],
   "source": [
    "print(train_labels)\n",
    "print(torch.sum(train_labels == 1).item())\n",
    "print(torch.sum(train_labels == -1).item())"
   ]
  },
  {
   "cell_type": "code",
   "execution_count": 8,
   "metadata": {},
   "outputs": [
    {
     "name": "stdout",
     "output_type": "stream",
     "text": [
      "Setting up allowed collision matrix with 100 random configurations\n"
     ]
    },
    {
     "name": "stdout",
     "output_type": "stream",
     "text": [
      "tensor([[-2.9671,  2.9671],\n",
      "        [-1.8326,  1.8326],\n",
      "        [-2.9671,  2.9671],\n",
      "        [-3.1416,  0.0873],\n",
      "        [-2.9671,  2.9671],\n",
      "        [-0.0873,  3.8223],\n",
      "        [-2.9671,  2.9671],\n",
      "        [ 0.0000,  0.0400]])\n",
      "Unique position link names: ['panda_link1', 'panda_link3', 'panda_link4', 'panda_link5', 'panda_link7', 'panda_link8', 'panda_leftfinger', 'panda_rightfinger', 'panda_virtual_ee_link']\n",
      "DiffCo training...\n"
     ]
    },
    {
     "name": "stderr",
     "output_type": "stream",
     "text": [
      "  5% 461/10000 [00:00<00:06, 1437.37it/s]"
     ]
    },
    {
     "name": "stdout",
     "output_type": "stream",
     "text": [
      "Ended at iteration 461, cost 0.3246 secs\n",
      "ACC: 1.0\n",
      "DiffCo training done. 0.4302 secs cost\n",
      "num of support points = 411\n",
      "Positive labels: 106, Negative labels: 1894\n",
      "Test acc: 0.9875, TPR 0.8491, TNR 0.9952\n",
      "Biased Test acc: 0.9865, TPR 0.9245, TNR 0.9900\n"
     ]
    },
    {
     "name": "stderr",
     "output_type": "stream",
     "text": [
      "\n"
     ]
    }
   ],
   "source": [
    "import diffco as dc\n",
    "import trimesh.transformations as tf\n",
    "\n",
    "panda_urdf_robot = dc.FrankaPanda(\n",
    "    simple_collision=False,\n",
    "    load_gripper=True, \n",
    "    base_transform=torch.eye(4),\n",
    "    device=\"cpu\", load_visual_meshes=False)\n",
    "print(panda_urdf_robot.joint_limits)\n",
    "fkdc = dc.ForwardKinematicsDiffCo(\n",
    "    robot=panda_urdf_robot,\n",
    "    environment=None,\n",
    "    gamma=10\n",
    ")\n",
    "\n",
    "# The default FrankaPanda model has 8 joints, including an extra joint for the gripper, ranging [0, 0.04]\n",
    "aug_train_cfgs = torch.cat([train_cfgs, torch.ones(len(train_cfgs))[:, None] * 0.00], dim=1)\n",
    "aug_test_cfgs = torch.cat([test_cfgs, torch.ones(len(test_cfgs))[:, None] * 0.00], dim=1)\n",
    "\n",
    "fkdc.fit(aug_train_cfgs, train_labels, verbose=True, verify_ratio=0)\n",
    "print(f'num of support points = {len(fkdc.perceptron.gains)}')\n",
    "acc, tpr, tnr = fkdc.verify(aug_test_cfgs, test_labels, verbose=True)"
   ]
  },
  {
   "cell_type": "markdown",
   "metadata": {},
   "source": [
    "### 3.3 Method III: Using higher-level collision_checker API\n",
    "#### but with an automatically generated dataset"
   ]
  },
  {
   "cell_type": "code",
   "execution_count": 9,
   "metadata": {},
   "outputs": [
    {
     "name": "stdout",
     "output_type": "stream",
     "text": [
      "Warning: No dynamics information for link: panda_link0, setting all inertial properties to 1.\n",
      "Warning: No dynamics information for link: panda_link1, setting all inertial properties to 1.\n",
      "Warning: No dynamics information for link: panda_link2, setting all inertial properties to 1.\n",
      "Warning: No dynamics information for link: panda_link3, setting all inertial properties to 1.\n",
      "Warning: No dynamics information for link: panda_link4, setting all inertial properties to 1.\n",
      "Warning: No dynamics information for link: panda_link5, setting all inertial properties to 1.\n",
      "Warning: No dynamics information for link: panda_link6, setting all inertial properties to 1.\n",
      "Warning: No dynamics information for link: panda_link7, setting all inertial properties to 1.\n",
      "Warning: No dynamics information for link: panda_link8, setting all inertial properties to 1.\n",
      "Warning: No dynamics information for link: panda_hand, setting all inertial properties to 1.\n",
      "Warning: No dynamics information for link: panda_leftfinger, setting all inertial properties to 1.\n",
      "Warning: No dynamics information for link: panda_rightfinger, setting all inertial properties to 1.\n",
      "Setting up allowed collision matrix with 100 random configurations\n",
      "tensor([[-2.8973,  2.8973],\n",
      "        [-1.7628,  1.7628],\n",
      "        [-2.8973,  2.8973],\n",
      "        [-3.0718, -0.0698],\n",
      "        [-2.8973,  2.8973],\n",
      "        [-0.0175,  3.7525],\n",
      "        [-2.8973,  2.8973],\n",
      "        [ 0.0000,  0.0400]])\n",
      "Unique position link names: ['panda_link1', 'panda_link3', 'panda_link4', 'panda_link5', 'panda_link7', 'panda_link8', 'panda_leftfinger', 'panda_rightfinger']\n",
      "Generating labels...\n",
      "Labels generated in 13.37s\n",
      "Positive verify labels: 334, Negative verify labels: 1666\n",
      "label_verify: tensor([ 1., -1., -1.,  ..., -1., -1., -1.])\n",
      "DiffCo training...\n"
     ]
    },
    {
     "name": "stderr",
     "output_type": "stream",
     "text": [
      " 16% 1575/10000 [00:00<00:05, 1673.27it/s]\n"
     ]
    },
    {
     "name": "stdout",
     "output_type": "stream",
     "text": [
      "Ended at iteration 1575, cost 0.9463 secs\n",
      "ACC: 1.0\n",
      "DiffCo training done. 1.0592 secs cost\n",
      "Positive labels: 334, Negative labels: 1666\n",
      "Test acc: 0.9355, TPR 0.8084, TNR 0.9610\n",
      "Biased Test acc: 0.8680, TPR 0.9551, TNR 0.8505\n",
      "num of support points = 1374\n"
     ]
    }
   ],
   "source": [
    "import diffco as dc\n",
    "import trimesh.transformations as tf\n",
    "\n",
    "# Optionally, you can add obstacle information to the ForwardKinematicsDiffCo class\n",
    "shape_env = dc.ShapeEnv(\n",
    "    shapes={\n",
    "        name: {\n",
    "            'type': 'Cylinder', \n",
    "            'params': {'radius': rtb_shape.radius, 'height': rtb_shape.length},\n",
    "            'transform': tf.translation_matrix(rtb_shape._wT[:3, 3])\n",
    "        } for name, rtb_shape in cenv.objects.items()\n",
    "    }\n",
    ")\n",
    "panda_urdf_robot = dc.FrankaPanda(\n",
    "    simple_collision=True,\n",
    "    load_gripper=True, \n",
    "    base_transform=torch.eye(4),\n",
    "    device=\"cpu\", load_visual_meshes=False)\n",
    "print(panda_urdf_robot.joint_limits)\n",
    "fkdc = dc.ForwardKinematicsDiffCo(\n",
    "    robot=panda_urdf_robot,\n",
    "    environment=shape_env,\n",
    "    gamma=10\n",
    ")\n",
    "\n",
    "acc, tpr, tnr = fkdc.fit(num_samples=12000, verbose=True, verify_ratio=1./6, fix_joints=[7], fix_joint_values=[0.04])\n",
    "print(f'num of support points = {len(fkdc.perceptron.gains)}')"
   ]
  },
  {
   "cell_type": "markdown",
   "metadata": {},
   "source": [
    "## 4. Define Trajectory Optimization Problem"
   ]
  },
  {
   "cell_type": "markdown",
   "metadata": {},
   "source": [
    "Now we choose two free configurations from our dataset and attempt to find a path between them with trajectory optimization. It is possible optimization does not yield a successful result because it may get stuck at a local minimum. So we recommend obtaining a valid path with a motion planning algorithm as the initial solution for optimization."
   ]
  },
  {
   "cell_type": "markdown",
   "metadata": {},
   "source": [
    "The following block gets a pair of (collision-free) start and end configuration"
   ]
  },
  {
   "cell_type": "code",
   "execution_count": 10,
   "metadata": {},
   "outputs": [
    {
     "name": "stderr",
     "output_type": "stream",
     "text": [
      "pybullet build time: Nov 28 2023 23:51:11\n"
     ]
    },
    {
     "name": "stdout",
     "output_type": "stream",
     "text": [
      "start_cfg = tensor([-0.1864,  0.0947, -0.3750, -2.0538,  0.1104,  2.2240,  0.1634]), fk_t = [ 0.49999999 -0.3         0.29999999]\n",
      "target_cfg = tensor([ 0.1778,  0.0207,  0.3855, -1.6237, -0.0618,  1.7273,  1.3554]), fk_t = [0.5        0.29999999 0.5       ]\n",
      "collision = [False, False]\n"
     ]
    }
   ],
   "source": [
    "free_cfgs = cfgs[labels == -1]\n",
    "two_idx = np.random.choice(len(free_cfgs), 2, replace=False)\n",
    "start_cfg, target_cfg = free_cfgs[two_idx]\n",
    "\n",
    "from spatialmath import SE3\n",
    "Tr = cenv.robot.fkine(cenv.robot.qr)\n",
    "start_point = np.array([0.5, -0.3, 0.3])\n",
    "target_point = np.array([0.5, 0.3, 0.5])\n",
    "Tstart = SE3.Rt(R=Tr.R, t=start_point)\n",
    "Ttarget = SE3.Rt(R=Tr.R, t=target_point)\n",
    "\n",
    "while True:\n",
    "    start_cfg = cenv.robot.ikine_LM(Tstart, mask=np.array([1., 1., 1., 1, 1, 1]), q0=cenv.robot.qr).q\n",
    "    start_cfg = torch.tensor(start_cfg, dtype=torch.float32)\n",
    "    target_cfg = cenv.robot.ikine_LM(Ttarget, mask=np.array([1., 1., 1., 1, 1, 1]), q0=cenv.robot.qr).q\n",
    "    target_cfg = torch.tensor(target_cfg, dtype=torch.float32)\n",
    "    if not any(cenv.is_collision([start_cfg, target_cfg])):\n",
    "        break\n",
    "print(f'start_cfg = {start_cfg}, fk_t = {cenv.robot.fkine(start_cfg).t}')\n",
    "print(f'target_cfg = {target_cfg}, fk_t = {cenv.robot.fkine(target_cfg).t}')\n",
    "print(f'collision = {cenv.is_collision([start_cfg, target_cfg])}')\n"
   ]
  },
  {
   "cell_type": "code",
   "execution_count": 11,
   "metadata": {},
   "outputs": [],
   "source": [
    "# set up an environmet in your browser for easier visualization\n",
    "# (otherwise, you will need to scroll up a lot to see the environment)\n",
    "tmp_cenv = PandaThreeCylinderEnv(launch_args={'realtime': False, 'browser': 'google-chrome'})\n",
    "tmp_cenv.robot.q = start_cfg.numpy()\n",
    "tmp_cenv.env.step(0.01)"
   ]
  },
  {
   "cell_type": "markdown",
   "metadata": {},
   "source": [
    "### 4.1 (Recommended) Obtain a valid path with OMPL"
   ]
  },
  {
   "cell_type": "code",
   "execution_count": 12,
   "metadata": {},
   "outputs": [
    {
     "name": "stdout",
     "output_type": "stream",
     "text": [
      "planner: RRTConnect\n",
      "Info:    RRTConnect: Space information setup was not yet called. Calling now.\n",
      "Debug:   RRTConnect: Planner range detected to be 2.607407\n",
      "Info:    RRTConnect: Starting planning with 1 states already in datastructure\n"
     ]
    },
    {
     "name": "stderr",
     "output_type": "stream",
     "text": [
      "Warning: RRTConnect: Planner setup called multiple times\n",
      "         at line 101 in /home/yuheng/dependencies/ompl-1.5.2/src/ompl/base/src/Planner.cpp\n"
     ]
    },
    {
     "name": "stdout",
     "output_type": "stream",
     "text": [
      "Info:    RRTConnect: Created 13 states (5 start + 8 goal)\n",
      "OMPL success?: True\n"
     ]
    }
   ],
   "source": [
    "from scripts.motion_planner import MotionPlanner\n",
    "\n",
    "def my_motion_cost(s1, s2):\n",
    "    # print(f'motion cost: {s1}, {s2}')\n",
    "    p_tensor = torch.stack([s1, s2])\n",
    "    control_points = drobot.fkine(p_tensor)\n",
    "    diff = (control_points[1:]-control_points[:-1]).pow(2).sum()\n",
    "    return diff.item()\n",
    "def valid_check_func(x):\n",
    "    # print(f'valid check: {x}')\n",
    "    if not isinstance(x, np.ndarray):\n",
    "        x = np.array(x)\n",
    "    return not cenv._single_collision(x)\n",
    "# valid_check_func = lambda x: not cenv.is_collision(x)\n",
    "mp = MotionPlanner(drobot, valid_check_func, my_motion_cost)\n",
    "ompl_rec = mp.plan(start_cfg, target_cfg, {'maxtime': 10.0})\n",
    "print(f'OMPL success?: {ompl_rec[\"success\"]}')\n",
    "ompl_path = torch.tensor(ompl_rec['solution'], dtype=torch.double)"
   ]
  },
  {
   "cell_type": "code",
   "execution_count": 13,
   "metadata": {},
   "outputs": [
    {
     "name": "stdout",
     "output_type": "stream",
     "text": [
      "OMPL path length 114\n"
     ]
    }
   ],
   "source": [
    "import time\n",
    "print(f'OMPL path length {len(ompl_path)}')\n",
    "tmp_cenv.robot.q = start_cfg.numpy()\n",
    "tmp_cenv.env.step(0.01)\n",
    "time.sleep(3)\n",
    "for cfg in ompl_path:\n",
    "    tmp_cenv.robot.q = cfg.numpy()\n",
    "    tmp_cenv.env.step(0.05)\n",
    "    time.sleep(0.05)"
   ]
  },
  {
   "cell_type": "markdown",
   "metadata": {},
   "source": [
    "### 4.2 Trajectory Optimization with DiffCo"
   ]
  },
  {
   "cell_type": "code",
   "execution_count": 14,
   "metadata": {},
   "outputs": [
    {
     "name": "stdout",
     "output_type": "stream",
     "text": [
      "diffco robot model joint limits: tensor([[-2.8973,  2.8973],\n",
      "        [-1.7628,  1.7628],\n",
      "        [-2.8973,  2.8973],\n",
      "        [-3.0718, -0.0698],\n",
      "        [-2.8973,  2.8973],\n",
      "        [-0.0175,  3.7525],\n",
      "        [-2.8973,  2.8973]])\n",
      "RTB robot joint limits: [[-2.8973 -1.7628 -2.8973 -3.0718 -2.8973 -0.0175 -2.8973]\n",
      " [ 2.8973  1.7628  2.8973 -0.0698  2.8973  3.7525  2.8973]]\n"
     ]
    }
   ],
   "source": [
    "# Make sure joint limits align in the diffco robot model and the RTB robot model\n",
    "print(f'diffco robot model joint limits: {drobot.limits}')\n",
    "print(f'RTB robot joint limits: {cenv.robot.qlim}')"
   ]
  },
  {
   "cell_type": "code",
   "execution_count": 15,
   "metadata": {},
   "outputs": [],
   "source": [
    "# Set up some optimization options\n",
    "from diffco import optim\n",
    "import importlib\n",
    "importlib.reload(optim)\n",
    "from diffco.optim import givengrad_traj_optimize, adam_traj_optimize, trustconstr_traj_optimize\n",
    "\n",
    "optim_options = {\n",
    "    'N_WAYPOINTS': 20,\n",
    "    'NUM_RE_TRIALS': 1,\n",
    "    'MAXITER': 30, # 200 for adam, 50 for slsqp(givengrad), 30 for trust_constr\n",
    "    'safety_margin': safety_margin * 2,\n",
    "    'max_speed': 0.1, # max interval between adjacent configs for collision checks\n",
    "    'seed': 1234,\n",
    "    'history': False,\n",
    "    'extra_optimizer_options': {\n",
    "        'disp': True, # False to suppress output\n",
    "        # 'iprint': 10, # make slsqp verbose\n",
    "        'verbose': 3, # make trust_constr verbose\n",
    "        # 'lr': 0.1, # learning rate for adam\n",
    "    },\n",
    "}\n",
    "robot = model.PandaFK()\n",
    "try:\n",
    "    if ompl_path is not None:\n",
    "        init_path = ompl_path.clone()\n",
    "        def sparsify_path(path, n):\n",
    "            assert n >= 2\n",
    "            if len(path) <= n:\n",
    "                return path\n",
    "            indices = np.linspace(0, len(path)-1, n, dtype=int)\n",
    "            return path[indices]\n",
    "        init_path = sparsify_path(init_path, optim_options['N_WAYPOINTS'])\n",
    "\n",
    "        optim_options['init_solution'] = init_path\n",
    "except NameError:\n",
    "    pass"
   ]
  },
  {
   "cell_type": "markdown",
   "metadata": {},
   "source": [
    "#### Choose one optimizer from below \n",
    "(and maybe adjust options above accordingly)"
   ]
  },
  {
   "cell_type": "code",
   "execution_count": 16,
   "metadata": {},
   "outputs": [
    {
     "name": "stdout",
     "output_type": "stream",
     "text": [
      "| niter |f evals|CG iter|  obj func   |tr radius |   opt    |  c viol  | penalty  |barrier param|CG stop|\n",
      "|-------|-------|-------|-------------|----------|----------|----------|----------|-------------|-------|\n",
      "|   1   |   1   |   0   | +1.3363e+00 | 1.00e+00 | 8.17e-01 | 8.13e+00 | 1.00e+00 |  1.00e-01   |   0   |\n"
     ]
    },
    {
     "name": "stderr",
     "output_type": "stream",
     "text": [
      "/home/yuheng/miniconda3/envs/diffco/lib/python3.8/site-packages/scipy/optimize/_hessian_update_strategy.py:182: UserWarning: delta_grad == 0.0. Check if the approximated function is linear. If the function is linear better results can be obtained by defining the Hessian as zero instead of using quasi-Newton approximations.\n",
      "  warn('delta_grad == 0.0. Check if the approximated '\n"
     ]
    },
    {
     "name": "stdout",
     "output_type": "stream",
     "text": [
      "|   2   |   2   |   1   | +1.2619e+00 | 7.00e+00 | 1.41e+00 | 1.49e+00 | 1.00e+00 |  1.00e-01   |   2   |\n",
      "|   3   |   3   |   7   | +9.3828e-01 | 7.00e+00 | 5.78e-01 | 2.13e-01 | 1.00e+00 |  1.00e-01   |   4   |\n",
      "|   4   |   4   |  14   | +8.0567e-01 | 7.00e+00 | 2.52e-01 | 0.00e+00 | 1.00e+00 |  1.00e-01   |   4   |\n",
      "|   5   |   5   |  17   | +7.0894e-01 | 7.00e+00 | 1.62e-01 | 2.26e-03 | 1.34e+00 |  1.00e-01   |   4   |\n",
      "|   6   |   6   |  20   | +7.0894e-01 | 7.00e-01 | 1.62e-01 | 2.26e-03 | 1.34e+00 |  1.00e-01   |   4   |\n",
      "|   7   |   7   |  24   | +7.0894e-01 | 7.00e-02 | 1.62e-01 | 2.26e-03 | 1.34e+00 |  1.00e-01   |   4   |\n",
      "|   8   |   8   |  25   | +6.8719e-01 | 1.40e-01 | 1.53e-01 | 1.09e-02 | 1.34e+00 |  1.00e-01   |   2   |\n",
      "|   9   |   9   |  26   | +6.6185e-01 | 1.40e-01 | 2.00e-01 | 2.04e-02 | 1.34e+00 |  1.00e-01   |   2   |\n",
      "|  10   |  10   |  27   | +6.2387e-01 | 2.80e-01 | 1.51e-01 | 9.46e-02 | 1.34e+00 |  1.00e-01   |   2   |\n",
      "|  11   |  11   |  29   | +6.2387e-01 | 1.40e-01 | 1.51e-01 | 9.46e-02 | 1.34e+00 |  1.00e-01   |   2   |\n",
      "|  12   |  12   |  30   | +5.8772e-01 | 2.80e-01 | 1.31e-01 | 1.46e-02 | 1.34e+00 |  1.00e-01   |   2   |\n",
      "|  13   |  13   |  32   | +5.8772e-01 | 2.80e-02 | 1.31e-01 | 1.46e-02 | 1.34e+00 |  1.00e-01   |   2   |\n",
      "|  14   |  14   |  33   | +5.8381e-01 | 2.80e-02 | 1.61e-01 | 2.11e-02 | 1.34e+00 |  1.00e-01   |   2   |\n",
      "|  15   |  15   |  34   | +5.8381e-01 | 1.40e-02 | 1.61e-01 | 2.11e-02 | 1.34e+00 |  1.00e-01   |   2   |\n",
      "|  16   |  16   |  35   | +5.8145e-01 | 2.80e-02 | 1.58e-01 | 8.96e-03 | 1.34e+00 |  1.00e-01   |   2   |\n",
      "|  17   |  17   |  36   | +5.8145e-01 | 8.14e-03 | 1.58e-01 | 8.96e-03 | 1.34e+00 |  1.00e-01   |   2   |\n",
      "|  18   |  18   |  37   | +5.7944e-01 | 8.14e-03 | 1.56e-01 | 6.22e-03 | 1.34e+00 |  1.00e-01   |   2   |\n",
      "|  19   |  19   |  38   | +5.7812e-01 | 8.14e-03 | 1.54e-01 | 5.90e-03 | 1.34e+00 |  1.00e-01   |   2   |\n",
      "|  20   |  20   |  39   | +5.7614e-01 | 5.70e-02 | 1.51e-01 | 3.10e-03 | 1.34e+00 |  1.00e-01   |   2   |\n",
      "|  21   |  21   |  40   | +5.7614e-01 | 1.41e-02 | 1.51e-01 | 3.10e-03 | 1.34e+00 |  1.00e-01   |   2   |\n",
      "|  22   |  22   |  41   | +5.7281e-01 | 9.87e-02 | 1.47e-01 | 0.00e+00 | 1.34e+00 |  1.00e-01   |   2   |\n",
      "|  23   |  23   |  42   | +5.7281e-01 | 9.87e-03 | 1.47e-01 | 0.00e+00 | 1.34e+00 |  1.00e-01   |   2   |\n",
      "|  24   |  24   |  43   | +5.7001e-01 | 1.97e-02 | 1.45e-01 | 1.77e-03 | 1.34e+00 |  1.00e-01   |   2   |\n",
      "|  25   |  25   |  44   | +5.6719e-01 | 1.97e-02 | 1.39e-01 | 2.10e-02 | 1.34e+00 |  1.00e-01   |   2   |\n",
      "|  26   |  26   |  45   | +5.6334e-01 | 3.95e-02 | 1.38e-01 | 2.38e-03 | 1.34e+00 |  1.00e-01   |   2   |\n",
      "|  27   |  27   |  46   | +5.6334e-01 | 1.97e-02 | 1.38e-01 | 2.38e-03 | 1.34e+00 |  1.00e-01   |   2   |\n",
      "|  28   |  28   |  47   | +5.5888e-01 | 1.97e-02 | 1.15e-01 | 1.51e-02 | 1.34e+00 |  1.00e-01   |   2   |\n",
      "|  29   |  29   |  48   | +5.5636e-01 | 1.97e-02 | 1.49e-01 | 0.00e+00 | 1.34e+00 |  1.00e-01   |   2   |\n",
      "|  30   |  30   |  49   | +5.5096e-01 | 3.95e-02 | 1.43e-01 | 4.96e-03 | 1.34e+00 |  1.00e-01   |   2   |\n",
      "\n",
      "The maximum number of function evaluations is exceeded.\n",
      "Number of iterations: 30, function evaluations: 30, CG iterations: 49, optimality: 1.43e-01, constraint violation: 4.96e-03, execution time: 1.2e+01 s.\n"
     ]
    }
   ],
   "source": [
    "# Fastest, lower success rate and path quality\n",
    "# optim_rec = adam_traj_optimize(\n",
    "#     robot, col_func, start_cfg, target_cfg, optim_options)\n",
    "\n",
    "# Medium success rate, better convergence than Adam\n",
    "# optim_rec = givengrad_traj_optimize(\n",
    "#     robot, col_func, start_cfg, target_cfg, optim_options)\n",
    "\n",
    "# (Recommended) Slowest, highest success rate and path quality\n",
    "optim_rec = trustconstr_traj_optimize(\n",
    "    robot, col_func, start_cfg, target_cfg, optim_options)\n",
    "\n",
    "# print(f'optim_rec = {optim_rec}')"
   ]
  },
  {
   "cell_type": "code",
   "execution_count": 17,
   "metadata": {},
   "outputs": [
    {
     "name": "stdout",
     "output_type": "stream",
     "text": [
      "init cost = 1.3363447475452177\n",
      "cost = 0.5509647130966187\n"
     ]
    }
   ],
   "source": [
    "# Compare path cost before and after optimization\n",
    "qs = optim_options['init_solution']\n",
    "fk_points = robot.fkine(qs)\n",
    "init_cost = (fk_points[1:] - fk_points[:-1]).pow(2).sum()\n",
    "print(f'init cost = {init_cost}')\n",
    "qs = optim_rec['solution']\n",
    "qs = torch.tensor(qs)\n",
    "fk_points = robot.fkine(qs)\n",
    "cost = (fk_points[1:] - fk_points[:-1]).pow(2).sum()\n",
    "print(f'cost = {cost}')\n",
    "assert not torch.allclose(qs, optim_options['init_solution'].to(qs.dtype))"
   ]
  },
  {
   "cell_type": "code",
   "execution_count": 18,
   "metadata": {},
   "outputs": [
    {
     "name": "stdout",
     "output_type": "stream",
     "text": [
      "Any in_collision ?: False\n",
      "Any proxy collision ?: False\n",
      "qs.shape = torch.Size([71, 7])\n"
     ]
    }
   ],
   "source": [
    "# Verify and visualize the optimized path.\n",
    "# You may also modify the code to visualize the initial path before optimization.\n",
    "\n",
    "from diffco.utils import dense_path\n",
    "qs = dense_path(qs, 0.2)\n",
    "\n",
    "in_collision = cenv.is_collision(qs)\n",
    "proxy_in_collision = (col_func(qs) - safety_margin > 0).reshape(-1)\n",
    "print(f'Any in_collision ?: {any(in_collision)}')\n",
    "print(f'Any proxy collision ?: {any(proxy_in_collision)}')\n",
    "\n",
    "print(f'qs.shape = {qs.shape}')\n",
    "import time\n",
    "tmp_cenv.robot.q = start_cfg.numpy()\n",
    "tmp_cenv.env.step(0.01)\n",
    "time.sleep(3)\n",
    "for q in qs:\n",
    "    tmp_cenv.robot.q = q.numpy()\n",
    "    tmp_cenv.env.step(0.05)\n",
    "    time.sleep(0.05)"
   ]
  },
  {
   "cell_type": "markdown",
   "metadata": {},
   "source": [
    "### 4.3 Trajectory Optimization with Geometrical Collision Checking\n",
    "We then also try optimization with the geometrical collison checker that comes with the environment, which is not differentiable.\n",
    "\n",
    "Note: this may take more than **30 minutes** to converge and sometimes may not even converge."
   ]
  },
  {
   "cell_type": "code",
   "execution_count": 19,
   "metadata": {},
   "outputs": [
    {
     "name": "stdout",
     "output_type": "stream",
     "text": [
      "| niter |f evals|CG iter|  obj func   |tr radius |   opt    |  c viol  | penalty  |barrier param|CG stop|\n",
      "|-------|-------|-------|-------------|----------|----------|----------|----------|-------------|-------|\n",
      "|   1   |  127  |   0   | +1.3363e+00 | 1.00e+00 | 9.05e-01 | 1.96e+00 | 1.00e+00 |  1.00e-01   |   0   |\n",
      "|   2   |  254  |   2   | +1.3912e+00 | 7.00e+00 | 7.90e-01 | 1.27e+00 | 1.00e+00 |  1.00e-01   |   2   |\n",
      "|   3   |  381  |  12   | +2.4018e+00 | 1.88e+01 | 6.75e-01 | 6.40e-01 | 1.82e+00 |  1.00e-01   |   4   |\n",
      "|   4   |  508  |  17   | +1.7396e+00 | 1.88e+01 | 6.67e-01 | 5.85e-01 | 1.82e+00 |  1.00e-01   |   4   |\n",
      "|   5   |  635  |  33   | +2.0387e+00 | 1.88e+01 | 6.62e-01 | 6.71e-01 | 3.97e+00 |  1.00e-01   |   4   |\n",
      "|   6   |  762  |  45   | +2.0387e+00 | 1.88e+00 | 6.62e-01 | 6.71e-01 | 3.97e+00 |  1.00e-01   |   4   |\n",
      "|   7   |  889  |  50   | +2.0387e+00 | 9.41e-01 | 6.62e-01 | 6.71e-01 | 3.97e+00 |  1.00e-01   |   2   |\n",
      "|   8   | 1016  |  52   | +2.1204e+00 | 9.41e-01 | 8.75e-01 | 4.18e-01 | 6.27e+00 |  1.00e-01   |   2   |\n",
      "|   9   | 1143  |  59   | +1.6971e+00 | 6.59e+00 | 8.87e-01 | 3.01e-01 | 6.27e+00 |  1.00e-01   |   2   |\n",
      "|  10   | 1270  |  70   | +1.6971e+00 | 2.05e+00 | 8.87e-01 | 3.01e-01 | 6.27e+00 |  1.00e-01   |   4   |\n",
      "\n",
      "The maximum number of function evaluations is exceeded.\n",
      "Number of iterations: 10, function evaluations: 1270, CG iterations: 70, optimality: 8.87e-01, constraint violation: 3.01e-01, execution time: 2.5e+02 s.\n"
     ]
    }
   ],
   "source": [
    "from diffco.optim import gradient_free_traj_optimize\n",
    "optim_options = {\n",
    "    'N_WAYPOINTS': 20,\n",
    "    'NUM_RE_TRIALS': 1,\n",
    "    'MAXITER': 10,\n",
    "    'max_speed': 0.1,\n",
    "    'max_dense_waypoints': 200,\n",
    "    'seed': 1234,\n",
    "    'history': False,\n",
    "    'extra_optimizer_options': {\n",
    "        'disp': True, # False to suppress output\n",
    "        # 'iprint': 10, # make slsqp verbose\n",
    "        'verbose': 3, # make trust_constr verbose\n",
    "        # 'lr': 0.1, # learning rate for adam\n",
    "    }\n",
    "}\n",
    "try:\n",
    "    optim_options['init_solution'] = init_path\n",
    "except NameError:\n",
    "    print('No init path, starting with straight line')\n",
    "robot = model.PandaFK()\n",
    "# dist_func = lambda qs: torch.tensor(cenv.distance(qs.numpy()), dtype=torch.float32)\n",
    "def gt_dist_func(qs):\n",
    "    # print(f'gt_dist_func: qs.shape = {qs.shape}')\n",
    "    return torch.tensor(cenv.distance(qs.numpy()), dtype=torch.float32)\n",
    "optim_rec = gradient_free_traj_optimize(\n",
    "    robot, gt_dist_func, start_cfg, target_cfg, optim_options)"
   ]
  },
  {
   "cell_type": "code",
   "execution_count": 20,
   "metadata": {},
   "outputs": [
    {
     "name": "stdout",
     "output_type": "stream",
     "text": [
      "init cost = 1.3363447475452177\n",
      "cost = 1.697069764137268\n",
      "time = 279.83578610420227\n",
      "Any in_collision = True\n",
      "Any proxy collision = True\n",
      "qs.shape = torch.Size([82, 7])\n"
     ]
    }
   ],
   "source": [
    "qs = optim_options['init_solution']\n",
    "fk_points = robot.fkine(qs)\n",
    "init_cost = (fk_points[1:] - fk_points[:-1]).pow(2).sum()\n",
    "print(f'init cost = {init_cost}')\n",
    "qs = optim_rec['solution']\n",
    "qs = torch.tensor(qs)\n",
    "fk_points = robot.fkine(qs)\n",
    "cost = (fk_points[1:] - fk_points[:-1]).pow(2).sum()\n",
    "print(f'cost = {cost}')\n",
    "assert not torch.allclose(qs, optim_options['init_solution'].to(qs.dtype))\n",
    "\n",
    "print(f'time = {optim_rec[\"time\"]}')\n",
    "\n",
    "from diffco.utils import dense_path\n",
    "qs = dense_path(qs, 0.2)\n",
    "\n",
    "in_collision = cenv.is_collision(qs)\n",
    "proxy_in_collision = (col_func(qs) - safety_margin > 0).reshape(-1)\n",
    "print(f'Any in_collision = {any(in_collision)}')\n",
    "print(f'Any proxy collision = {any(proxy_in_collision)}')\n",
    "\n",
    "print(f'qs.shape = {qs.shape}')\n",
    "import time\n",
    "for q in qs:\n",
    "    tmp_cenv.robot.q = q.numpy()\n",
    "    tmp_cenv.env.step(0.05)\n",
    "    time.sleep(0.05)"
   ]
  }
 ],
 "metadata": {
  "kernelspec": {
   "display_name": "Python 3 (ipykernel)",
   "language": "python",
   "name": "python3"
  },
  "language_info": {
   "codemirror_mode": {
    "name": "ipython",
    "version": 3
   },
   "file_extension": ".py",
   "mimetype": "text/x-python",
   "name": "python",
   "nbconvert_exporter": "python",
   "pygments_lexer": "ipython3",
   "version": "3.8.11"
  }
 },
 "nbformat": 4,
 "nbformat_minor": 4
}
